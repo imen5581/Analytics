{
  "nbformat": 4,
  "nbformat_minor": 0,
  "metadata": {
    "colab": {
      "name": "Untitled9.ipynb",
      "provenance": [],
      "collapsed_sections": []
    },
    "kernelspec": {
      "name": "python3",
      "display_name": "Python 3"
    },
    "language_info": {
      "name": "python"
    }
  },
  "cells": [
    {
      "cell_type": "markdown",
      "source": [
        "**2. Полносвязная нейронная сеть**"
      ],
      "metadata": {
        "id": "CmukMqUMAc3m"
      }
    },
    {
      "cell_type": "code",
      "execution_count": 11,
      "metadata": {
        "colab": {
          "base_uri": "https://localhost:8080/"
        },
        "id": "fLARzY6gAXB-",
        "outputId": "a358029b-f988-4fb8-b48d-4bc26feb55df"
      },
      "outputs": [
        {
          "output_type": "stream",
          "name": "stdout",
          "text": [
            "Model: \"sequential_3\"\n",
            "_________________________________________________________________\n",
            " Layer (type)                Output Shape              Param #   \n",
            "=================================================================\n",
            " dense_9 (Dense)             (None, 128)               100480    \n",
            "                                                                 \n",
            " activation_9 (Activation)   (None, 128)               0         \n",
            "                                                                 \n",
            " dense_10 (Dense)            (None, 128)               16512     \n",
            "                                                                 \n",
            " activation_10 (Activation)  (None, 128)               0         \n",
            "                                                                 \n",
            " dense_11 (Dense)            (None, 10)                1290      \n",
            "                                                                 \n",
            " activation_11 (Activation)  (None, 10)                0         \n",
            "                                                                 \n",
            "=================================================================\n",
            "Total params: 118,282\n",
            "Trainable params: 118,282\n",
            "Non-trainable params: 0\n",
            "_________________________________________________________________\n"
          ]
        }
      ],
      "source": [
        "from keras.datasets import fashion_mnist\n",
        "from keras.models import Sequential\n",
        "from keras.layers.core import Dense, Activation\n",
        "from tensorflow.keras import optimizers\n",
        "from keras.utils import np_utils\n",
        "from keras.callbacks import TensorBoard\n",
        "\n",
        "# Настраиваем параметры сети\n",
        "NB_EPOCH = 50\n",
        "BATCH_SIZE = 128\n",
        "VERBOSE = 1 # Включаем индикатор выполнения\n",
        "NB_CLASSES = 10 # Количество классов = количеству классов одежды\n",
        "N_HIDDEN = 128 # Количество нейронов в скрытом слое\n",
        "OPTIMIZER = optimizers.SGD() # Стохастический оптимизатор градиентного спуска\n",
        "VALIDATION_SPLIT = 0.2 # Определяем какая часть обучающего набора зарезервирована для контроля качества\n",
        "RESHAPED = 784 # Во входном слое с каждым пикселем изображения ассоциирован 1 нейрон, те. получается 28*28 = 784 нейрона\n",
        "\n",
        "# Загружаем данные и разбиваем их на обучающий и тестовый набор\n",
        "(X_train, y_train), (X_test, y_test) = fashion_mnist.load_data()\n",
        "\n",
        "# Нормализуем данные\n",
        "X_train = X_train.reshape(60000, RESHAPED)\n",
        "X_test = X_test.reshape(10000,RESHAPED)\n",
        "X_train = X_train.astype('float32')\n",
        "X_test = X_test.astype('float32')\n",
        "\n",
        "X_train /= 255\n",
        "X_test /= 255\n",
        "\n",
        "#Преобразовываем векторы классов в бинарные матрицы классов\n",
        "Y_train = np_utils.to_categorical(y_train, NB_CLASSES)\n",
        "Y_test = np_utils.to_categorical(y_test, NB_CLASSES)\n",
        "\n",
        "model = Sequential() # Создаем модел\n",
        "model.add(Dense(N_HIDDEN, input_shape = (RESHAPED,))) # Добавляем входной полносвязанный слой \n",
        "model.add(Activation('relu'))\n",
        "model.add(Dense(N_HIDDEN))\n",
        "model.add(Activation('relu'))\n",
        "model.add(Dense(NB_CLASSES))\n",
        "model.add(Activation('softmax')) # Слой активации (Сигмоида)\n",
        "model.summary()\n",
        "\n",
        "#Компиляция модели\n",
        "model.compile(loss = 'categorical_crossentropy', optimizer = OPTIMIZER, metrics = ['accuracy'])\n",
        "\n"
      ]
    },
    {
      "cell_type": "code",
      "source": [
        "# Подключаем модуль для построения графиков качества модели на валидационной и тренировочной выборке от количества эпох\n",
        "tensorboard = TensorBoard(log_dir='./logs', histogram_freq=0,\n",
        "                          write_graph=True, write_images=False)\n",
        "\n",
        "# Обучаем нашу модель\n",
        "model.fit(X_train, Y_train, batch_size = BATCH_SIZE, epochs = NB_EPOCH, verbose = VERBOSE, validation_split = VALIDATION_SPLIT, callbacks=[tensorboard])"
      ],
      "metadata": {
        "colab": {
          "base_uri": "https://localhost:8080/"
        },
        "id": "ghj2OmDIB7Qq",
        "outputId": "0728e025-eacb-485b-ea05-ce661926150d"
      },
      "execution_count": 12,
      "outputs": [
        {
          "output_type": "stream",
          "name": "stdout",
          "text": [
            "Epoch 1/50\n",
            "375/375 [==============================] - 2s 5ms/step - loss: 1.2488 - accuracy: 0.6324 - val_loss: 0.8016 - val_accuracy: 0.7442\n",
            "Epoch 2/50\n",
            "375/375 [==============================] - 2s 4ms/step - loss: 0.7163 - accuracy: 0.7651 - val_loss: 0.6429 - val_accuracy: 0.7909\n",
            "Epoch 3/50\n",
            "375/375 [==============================] - 2s 4ms/step - loss: 0.6111 - accuracy: 0.7969 - val_loss: 0.5765 - val_accuracy: 0.8037\n",
            "Epoch 4/50\n",
            "375/375 [==============================] - 2s 4ms/step - loss: 0.5583 - accuracy: 0.8124 - val_loss: 0.5473 - val_accuracy: 0.8112\n",
            "Epoch 5/50\n",
            "375/375 [==============================] - 2s 4ms/step - loss: 0.5243 - accuracy: 0.8207 - val_loss: 0.5179 - val_accuracy: 0.8213\n",
            "Epoch 6/50\n",
            "375/375 [==============================] - 2s 4ms/step - loss: 0.5020 - accuracy: 0.8269 - val_loss: 0.4956 - val_accuracy: 0.8273\n",
            "Epoch 7/50\n",
            "375/375 [==============================] - 2s 4ms/step - loss: 0.4849 - accuracy: 0.8325 - val_loss: 0.4889 - val_accuracy: 0.8260\n",
            "Epoch 8/50\n",
            "375/375 [==============================] - 2s 4ms/step - loss: 0.4723 - accuracy: 0.8357 - val_loss: 0.4786 - val_accuracy: 0.8282\n",
            "Epoch 9/50\n",
            "375/375 [==============================] - 1s 4ms/step - loss: 0.4612 - accuracy: 0.8398 - val_loss: 0.4734 - val_accuracy: 0.8322\n",
            "Epoch 10/50\n",
            "375/375 [==============================] - 2s 4ms/step - loss: 0.4519 - accuracy: 0.8421 - val_loss: 0.4609 - val_accuracy: 0.8383\n",
            "Epoch 11/50\n",
            "375/375 [==============================] - 2s 4ms/step - loss: 0.4433 - accuracy: 0.8448 - val_loss: 0.4597 - val_accuracy: 0.8353\n",
            "Epoch 12/50\n",
            "375/375 [==============================] - 1s 4ms/step - loss: 0.4363 - accuracy: 0.8479 - val_loss: 0.4384 - val_accuracy: 0.8444\n",
            "Epoch 13/50\n",
            "375/375 [==============================] - 2s 4ms/step - loss: 0.4293 - accuracy: 0.8496 - val_loss: 0.4441 - val_accuracy: 0.8432\n",
            "Epoch 14/50\n",
            "375/375 [==============================] - 1s 4ms/step - loss: 0.4236 - accuracy: 0.8537 - val_loss: 0.4315 - val_accuracy: 0.8471\n",
            "Epoch 15/50\n",
            "375/375 [==============================] - 2s 5ms/step - loss: 0.4171 - accuracy: 0.8536 - val_loss: 0.4278 - val_accuracy: 0.8455\n",
            "Epoch 16/50\n",
            "375/375 [==============================] - 2s 4ms/step - loss: 0.4121 - accuracy: 0.8563 - val_loss: 0.4207 - val_accuracy: 0.8514\n",
            "Epoch 17/50\n",
            "375/375 [==============================] - 2s 4ms/step - loss: 0.4082 - accuracy: 0.8572 - val_loss: 0.4136 - val_accuracy: 0.8537\n",
            "Epoch 18/50\n",
            "375/375 [==============================] - 2s 4ms/step - loss: 0.4020 - accuracy: 0.8592 - val_loss: 0.4127 - val_accuracy: 0.8536\n",
            "Epoch 19/50\n",
            "375/375 [==============================] - 2s 4ms/step - loss: 0.3970 - accuracy: 0.8602 - val_loss: 0.4126 - val_accuracy: 0.8527\n",
            "Epoch 20/50\n",
            "375/375 [==============================] - 2s 4ms/step - loss: 0.3934 - accuracy: 0.8616 - val_loss: 0.4114 - val_accuracy: 0.8551\n",
            "Epoch 21/50\n",
            "375/375 [==============================] - 2s 4ms/step - loss: 0.3906 - accuracy: 0.8632 - val_loss: 0.4067 - val_accuracy: 0.8556\n",
            "Epoch 22/50\n",
            "375/375 [==============================] - 2s 4ms/step - loss: 0.3860 - accuracy: 0.8644 - val_loss: 0.4130 - val_accuracy: 0.8511\n",
            "Epoch 23/50\n",
            "375/375 [==============================] - 2s 4ms/step - loss: 0.3829 - accuracy: 0.8655 - val_loss: 0.4011 - val_accuracy: 0.8584\n",
            "Epoch 24/50\n",
            "375/375 [==============================] - 2s 4ms/step - loss: 0.3794 - accuracy: 0.8666 - val_loss: 0.3963 - val_accuracy: 0.8583\n",
            "Epoch 25/50\n",
            "375/375 [==============================] - 2s 4ms/step - loss: 0.3757 - accuracy: 0.8682 - val_loss: 0.3969 - val_accuracy: 0.8593\n",
            "Epoch 26/50\n",
            "375/375 [==============================] - 2s 4ms/step - loss: 0.3729 - accuracy: 0.8698 - val_loss: 0.3905 - val_accuracy: 0.8612\n",
            "Epoch 27/50\n",
            "375/375 [==============================] - 1s 4ms/step - loss: 0.3688 - accuracy: 0.8709 - val_loss: 0.3861 - val_accuracy: 0.8630\n",
            "Epoch 28/50\n",
            "375/375 [==============================] - 2s 4ms/step - loss: 0.3666 - accuracy: 0.8717 - val_loss: 0.3835 - val_accuracy: 0.8650\n",
            "Epoch 29/50\n",
            "375/375 [==============================] - 2s 4ms/step - loss: 0.3626 - accuracy: 0.8735 - val_loss: 0.3950 - val_accuracy: 0.8577\n",
            "Epoch 30/50\n",
            "375/375 [==============================] - 2s 5ms/step - loss: 0.3605 - accuracy: 0.8740 - val_loss: 0.3796 - val_accuracy: 0.8659\n",
            "Epoch 31/50\n",
            "375/375 [==============================] - 2s 4ms/step - loss: 0.3582 - accuracy: 0.8741 - val_loss: 0.3803 - val_accuracy: 0.8659\n",
            "Epoch 32/50\n",
            "375/375 [==============================] - 2s 4ms/step - loss: 0.3551 - accuracy: 0.8762 - val_loss: 0.3772 - val_accuracy: 0.8670\n",
            "Epoch 33/50\n",
            "375/375 [==============================] - 2s 4ms/step - loss: 0.3529 - accuracy: 0.8762 - val_loss: 0.3752 - val_accuracy: 0.8656\n",
            "Epoch 34/50\n",
            "375/375 [==============================] - 2s 5ms/step - loss: 0.3510 - accuracy: 0.8776 - val_loss: 0.3750 - val_accuracy: 0.8667\n",
            "Epoch 35/50\n",
            "375/375 [==============================] - 1s 4ms/step - loss: 0.3479 - accuracy: 0.8767 - val_loss: 0.3755 - val_accuracy: 0.8660\n",
            "Epoch 36/50\n",
            "375/375 [==============================] - 2s 4ms/step - loss: 0.3462 - accuracy: 0.8795 - val_loss: 0.3772 - val_accuracy: 0.8660\n",
            "Epoch 37/50\n",
            "375/375 [==============================] - 2s 4ms/step - loss: 0.3433 - accuracy: 0.8793 - val_loss: 0.3683 - val_accuracy: 0.8688\n",
            "Epoch 38/50\n",
            "375/375 [==============================] - 2s 4ms/step - loss: 0.3403 - accuracy: 0.8809 - val_loss: 0.3676 - val_accuracy: 0.8713\n",
            "Epoch 39/50\n",
            "375/375 [==============================] - 2s 4ms/step - loss: 0.3384 - accuracy: 0.8812 - val_loss: 0.3671 - val_accuracy: 0.8724\n",
            "Epoch 40/50\n",
            "375/375 [==============================] - 2s 4ms/step - loss: 0.3375 - accuracy: 0.8810 - val_loss: 0.3662 - val_accuracy: 0.8707\n",
            "Epoch 41/50\n",
            "375/375 [==============================] - 2s 4ms/step - loss: 0.3348 - accuracy: 0.8828 - val_loss: 0.3642 - val_accuracy: 0.8696\n",
            "Epoch 42/50\n",
            "375/375 [==============================] - 2s 4ms/step - loss: 0.3327 - accuracy: 0.8838 - val_loss: 0.3664 - val_accuracy: 0.8720\n",
            "Epoch 43/50\n",
            "375/375 [==============================] - 2s 4ms/step - loss: 0.3308 - accuracy: 0.8835 - val_loss: 0.3596 - val_accuracy: 0.8727\n",
            "Epoch 44/50\n",
            "375/375 [==============================] - 2s 4ms/step - loss: 0.3285 - accuracy: 0.8848 - val_loss: 0.3622 - val_accuracy: 0.8717\n",
            "Epoch 45/50\n",
            "375/375 [==============================] - 2s 4ms/step - loss: 0.3255 - accuracy: 0.8849 - val_loss: 0.3579 - val_accuracy: 0.8748\n",
            "Epoch 46/50\n",
            "375/375 [==============================] - 2s 4ms/step - loss: 0.3242 - accuracy: 0.8857 - val_loss: 0.3566 - val_accuracy: 0.8761\n",
            "Epoch 47/50\n",
            "375/375 [==============================] - 2s 4ms/step - loss: 0.3220 - accuracy: 0.8860 - val_loss: 0.3574 - val_accuracy: 0.8731\n",
            "Epoch 48/50\n",
            "375/375 [==============================] - 2s 5ms/step - loss: 0.3203 - accuracy: 0.8872 - val_loss: 0.3536 - val_accuracy: 0.8749\n",
            "Epoch 49/50\n",
            "375/375 [==============================] - 2s 4ms/step - loss: 0.3183 - accuracy: 0.8879 - val_loss: 0.3539 - val_accuracy: 0.8758\n",
            "Epoch 50/50\n",
            "375/375 [==============================] - 2s 4ms/step - loss: 0.3180 - accuracy: 0.8881 - val_loss: 0.3527 - val_accuracy: 0.8754\n"
          ]
        },
        {
          "output_type": "execute_result",
          "data": {
            "text/plain": [
              "<keras.callbacks.History at 0x7f33bcf43f10>"
            ]
          },
          "metadata": {},
          "execution_count": 12
        }
      ]
    },
    {
      "cell_type": "code",
      "source": [
        "# Проверяем модель на тестовых данных\n",
        "model.evaluate(X_test, Y_test, verbose = VERBOSE)"
      ],
      "metadata": {
        "colab": {
          "base_uri": "https://localhost:8080/"
        },
        "id": "VHhQJn_6B9Mr",
        "outputId": "25716994-f63d-4bda-b662-38e558bcd296"
      },
      "execution_count": 13,
      "outputs": [
        {
          "output_type": "stream",
          "name": "stdout",
          "text": [
            "313/313 [==============================] - 0s 1ms/step - loss: 0.3766 - accuracy: 0.8681\n"
          ]
        },
        {
          "output_type": "execute_result",
          "data": {
            "text/plain": [
              "[0.37664884328842163, 0.8680999875068665]"
            ]
          },
          "metadata": {},
          "execution_count": 13
        }
      ]
    },
    {
      "cell_type": "code",
      "source": [
        "# Строим графики качества модели на валидационной и тренировочной выборке от количества эпох\n",
        "%load_ext tensorboard\n",
        "%tensorboard --logdir logs"
      ],
      "metadata": {
        "id": "eVCH1x5LB_he"
      },
      "execution_count": null,
      "outputs": []
    },
    {
      "cell_type": "markdown",
      "source": [
        "**Вывод** \n",
        "\n",
        "Качество модели по accuracy составило 88.81% на тренировочной выборке и 86.81% на тестовой\n",
        "\n",
        "Как мы видим, качество классификации у модели с двумя скрытыми слоями на 2,46% выше, чем у модели без скрытых слоев. И при этом количество итераций уменьшилось с 200 до 50"
      ],
      "metadata": {
        "id": "J6qaV4It5WvX"
      }
    }
  ]
}