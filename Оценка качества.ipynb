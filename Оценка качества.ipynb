{
  "nbformat": 4,
  "nbformat_minor": 0,
  "metadata": {
    "kernelspec": {
      "display_name": "Python 3",
      "language": "python",
      "name": "python3"
    },
    "language_info": {
      "codemirror_mode": {
        "name": "ipython",
        "version": 3
      },
      "file_extension": ".py",
      "mimetype": "text/x-python",
      "name": "python",
      "nbconvert_exporter": "python",
      "pygments_lexer": "ipython3",
      "version": "3.6.7"
    },
    "colab": {
      "name": "task-3.2.2.ipynb",
      "provenance": []
    }
  },
  "cells": [
    {
      "cell_type": "markdown",
      "metadata": {
        "id": "USRFoxVQYicW"
      },
      "source": [
        "# Измерение качества моделей"
      ]
    },
    {
      "cell_type": "markdown",
      "metadata": {
        "id": "VKdL6CyfYicv"
      },
      "source": [
        "## Метрики качества"
      ]
    },
    {
      "cell_type": "markdown",
      "metadata": {
        "id": "qNa9mNlEYicz"
      },
      "source": [
        "Это практическое задание посвящено ознакомлению с инструментами оценки качества моделей машинного обучения, которые предоставляет библиотека `scikit-learn`. Метрики качества, представленные различными функциями, находятся в модуле `sklearn.metrics`. Мы начнем с загрузки набора данных из файла `data.csv` при помощи функции `read_csv` из библиотеки `pandas`. Этот набор данных содержит информацию о предсказаниях различных алгоритмов машинного обучения для решения задачи классификации. Колонка `prediction` - это результаты работы одного из этих алгоритмов. Целевая переменная содержится в столбце `target` (класс 0 или 1). Подсчитайте значение `true negative`, `false negative`, `true positive` и `false positive`. Запишите эти значения через запятую, сохраняя приведенный порядок, в переменную `answer1`, которая будет являтся строкой. Далее, посчитайте для этих данных значение таких метрик как `precision`, `recall` и `f1 score` с точностью до двух знаков после запятой. Запишите результаты в строго заданном порядке через запятую в переменную `answer2`, которая так же будет являться строкой"
      ]
    },
    {
      "cell_type": "markdown",
      "metadata": {
        "id": "q8TFkQeFYic4"
      },
      "source": [
        "### *РЕШЕНИЕ*"
      ]
    },
    {
      "cell_type": "code",
      "metadata": {
        "colab": {
          "base_uri": "https://localhost:8080/",
          "height": 206
        },
        "id": "OvsjW39hYic6",
        "outputId": "ff7e689e-f548-476b-d95f-cfb4ea865457"
      },
      "source": [
        "import pandas as pd\n",
        "from sklearn.metrics import confusion_matrix\n",
        "\n",
        "data = pd.read_csv('data.csv')\n",
        "data.head()\n"
      ],
      "execution_count": 4,
      "outputs": [
        {
          "output_type": "execute_result",
          "data": {
            "text/html": [
              "<div>\n",
              "<style scoped>\n",
              "    .dataframe tbody tr th:only-of-type {\n",
              "        vertical-align: middle;\n",
              "    }\n",
              "\n",
              "    .dataframe tbody tr th {\n",
              "        vertical-align: top;\n",
              "    }\n",
              "\n",
              "    .dataframe thead th {\n",
              "        text-align: right;\n",
              "    }\n",
              "</style>\n",
              "<table border=\"1\" class=\"dataframe\">\n",
              "  <thead>\n",
              "    <tr style=\"text-align: right;\">\n",
              "      <th></th>\n",
              "      <th>prediction</th>\n",
              "      <th>scores_1</th>\n",
              "      <th>scores_2</th>\n",
              "      <th>target</th>\n",
              "    </tr>\n",
              "  </thead>\n",
              "  <tbody>\n",
              "    <tr>\n",
              "      <th>0</th>\n",
              "      <td>1</td>\n",
              "      <td>0.89</td>\n",
              "      <td>0.9</td>\n",
              "      <td>1</td>\n",
              "    </tr>\n",
              "    <tr>\n",
              "      <th>1</th>\n",
              "      <td>0</td>\n",
              "      <td>0.06</td>\n",
              "      <td>0.0</td>\n",
              "      <td>0</td>\n",
              "    </tr>\n",
              "    <tr>\n",
              "      <th>2</th>\n",
              "      <td>1</td>\n",
              "      <td>0.71</td>\n",
              "      <td>0.6</td>\n",
              "      <td>0</td>\n",
              "    </tr>\n",
              "    <tr>\n",
              "      <th>3</th>\n",
              "      <td>1</td>\n",
              "      <td>1.00</td>\n",
              "      <td>0.7</td>\n",
              "      <td>1</td>\n",
              "    </tr>\n",
              "    <tr>\n",
              "      <th>4</th>\n",
              "      <td>1</td>\n",
              "      <td>1.00</td>\n",
              "      <td>1.0</td>\n",
              "      <td>1</td>\n",
              "    </tr>\n",
              "  </tbody>\n",
              "</table>\n",
              "</div>"
            ],
            "text/plain": [
              "   prediction  scores_1  scores_2  target\n",
              "0           1      0.89       0.9       1\n",
              "1           0      0.06       0.0       0\n",
              "2           1      0.71       0.6       0\n",
              "3           1      1.00       0.7       1\n",
              "4           1      1.00       1.0       1"
            ]
          },
          "metadata": {},
          "execution_count": 4
        }
      ]
    },
    {
      "cell_type": "code",
      "metadata": {
        "colab": {
          "base_uri": "https://localhost:8080/"
        },
        "id": "s9TJpzje-Rnd",
        "outputId": "5b545fa9-eee3-4389-88b4-18874844b945"
      },
      "source": [
        "y_true = data['target']\n",
        "y_pred = data['prediction']\n",
        "tn, fp, fn, tp = confusion_matrix(y_true, y_pred,labels=[0, 1]).ravel()\n",
        "print(tn, fp, fn, tp)"
      ],
      "execution_count": 5,
      "outputs": [
        {
          "output_type": "stream",
          "name": "stdout",
          "text": [
            "63 7 4 114\n"
          ]
        }
      ]
    },
    {
      "cell_type": "code",
      "metadata": {
        "colab": {
          "base_uri": "https://localhost:8080/"
        },
        "id": "O3C1VmM5YidB",
        "outputId": "0fe5d902-a6ae-45d9-abdc-a508425eaf07"
      },
      "source": [
        "from sklearn.metrics import precision_score, recall_score, f1_score\n",
        "precision_score(y_true, y_pred, average=None)\n"
      ],
      "execution_count": 6,
      "outputs": [
        {
          "output_type": "execute_result",
          "data": {
            "text/plain": [
              "array([0.94029851, 0.94214876])"
            ]
          },
          "metadata": {},
          "execution_count": 6
        }
      ]
    },
    {
      "cell_type": "code",
      "metadata": {
        "colab": {
          "base_uri": "https://localhost:8080/"
        },
        "id": "Y1BCsvu0WmcW",
        "outputId": "a20f4641-924f-4ca2-9e49-53b0e0fad65a"
      },
      "source": [
        "precision = tp / (tp + fp)\n",
        "recall = tp / (tp + fn)\n",
        "F1 = 2 * (precision * recall) / (precision + recall)\n",
        "print(precision)\n",
        "print(recall)\n",
        "print(F1)\n"
      ],
      "execution_count": 7,
      "outputs": [
        {
          "output_type": "stream",
          "name": "stdout",
          "text": [
            "0.9421487603305785\n",
            "0.9661016949152542\n",
            "0.9539748953974895\n"
          ]
        }
      ]
    },
    {
      "cell_type": "markdown",
      "metadata": {
        "id": "xB1qIrwhYidE"
      },
      "source": [
        "В столбцах `scores_1` и `scores_2` содержаться оценки вероятности пренадлежности объектов к классу 1 для двух разных алгоритмов машинного обучения. Рассчитайте площадь под ROC-кривой для каждого алгоритма и сравните их. В качестве ответа `answer3` приведите большее из двух значений, округленное до трех знаков после запятой."
      ]
    },
    {
      "cell_type": "markdown",
      "metadata": {
        "id": "t5xi2uTGYidI"
      },
      "source": [
        "### *РЕШЕНИЕ*"
      ]
    },
    {
      "cell_type": "code",
      "metadata": {
        "id": "N5w8w2ioYidL",
        "colab": {
          "base_uri": "https://localhost:8080/"
        },
        "outputId": "7624a85f-1e8b-4c35-d95b-95541a876663"
      },
      "source": [
        "from sklearn.metrics import roc_auc_score\n",
        "print(roc_auc_score(data['target'],data['scores_1']))\n",
        "print(roc_auc_score(data['target'],data['scores_2']))"
      ],
      "execution_count": 8,
      "outputs": [
        {
          "output_type": "stream",
          "name": "stdout",
          "text": [
            "0.9934624697336562\n",
            "0.9854116222760291\n"
          ]
        }
      ]
    },
    {
      "cell_type": "markdown",
      "metadata": {
        "id": "yFfN8_PaYidP"
      },
      "source": [
        "## Метод скользящего контроля"
      ]
    },
    {
      "cell_type": "markdown",
      "metadata": {
        "id": "fUEaw4AjYidS"
      },
      "source": [
        "Во второй части данного практического задания мы изучать различные методы оценки моделей машинного обучения. Загрузите набор данных `Breast Cancer Wisconsin (Diagnostic)`, используя функцию `load_breast_cancer` из модуля `sklearn.datasets`. Этот датасет позволяет решать задачу предсказания рака груди по различным характеристикам опухоли. В данном случае, целевая переменная принимает два значения, соответствующие доброкачественной и злокачественной опухоли. Проверьте, является ли данная выборка сбалансированной."
      ]
    },
    {
      "cell_type": "code",
      "metadata": {
        "id": "o9VotERFYidV",
        "colab": {
          "base_uri": "https://localhost:8080/"
        },
        "outputId": "d42d732e-749b-44a4-a8af-5dc491eb978c"
      },
      "source": [
        "from sklearn.datasets import load_breast_cancer\n",
        "\n",
        "X, y = load_breast_cancer(return_X_y=True)\n",
        "counts = pd.value_counts(y)\n",
        "print(\"Is this a balanced dataset? {}\".format(counts[1] == counts[0]))"
      ],
      "execution_count": 9,
      "outputs": [
        {
          "output_type": "stream",
          "name": "stdout",
          "text": [
            "Is this a balanced dataset? False\n"
          ]
        }
      ]
    },
    {
      "cell_type": "code",
      "metadata": {
        "id": "hFjezpNrk4XG"
      },
      "source": [
        ""
      ],
      "execution_count": null,
      "outputs": []
    },
    {
      "cell_type": "markdown",
      "metadata": {
        "id": "B3pdGgL2YidX"
      },
      "source": [
        "Первый метод, который мы будем использовать, - это случайное разбиение датасета на тренировочную и тестовую выборку с помощью функции `train_test_split` из `sklearn.model_selection` с параметрами `random_state=3` и `test_size=0.33`. Если выборка является несбалансированной передайте целевую переменную в эту функцию в качестве аргумента `stratify`.\n",
        "\n",
        "Обучите логистическую регрессию (класс `LogisticRegression` из модуля `sklearn.linear_model`) с параметром конструктора `random_state=42` и метод K ближайших соседей (класс `KNeighborsClassifier` из модуля `sklearn.neighbors`) на тренировочной выборке. Оцените качество на тестовой выборке для каждой из моделей. В качестве метрики качества используйте `recall`. Какая из моделей показывает лучший результат? Ответом на это задание `answer4` является этот результат, округленный до трех знаков после запятой."
      ]
    },
    {
      "cell_type": "markdown",
      "metadata": {
        "id": "THsjV2QWYida"
      },
      "source": [
        "### *РЕШЕНИЕ*"
      ]
    },
    {
      "cell_type": "code",
      "metadata": {
        "id": "uFdPRgj5Yidc",
        "colab": {
          "base_uri": "https://localhost:8080/"
        },
        "outputId": "27acd1b2-7638-4ca7-ff0c-807f87248408"
      },
      "source": [
        "from sklearn.model_selection import train_test_split\n",
        "from sklearn.metrics import recall_score\n",
        "from sklearn.neighbors import KNeighborsClassifier\n",
        "from sklearn.linear_model import LogisticRegression\n",
        "\n",
        "X_train, X_test, y_train, y_test = train_test_split(X, y, random_state=3, test_size=0.33, stratify = y)\n",
        "clf = LogisticRegression(random_state=42).fit(X_train, y_train)\n",
        "clf_pred = clf.predict(X_test)\n",
        "\n",
        "tn, fp, fn, tp = confusion_matrix(y_test, clf_pred,labels=[0, 1]).ravel()\n",
        "print(tn, fp, fn, tp)\n",
        "\n",
        "score1 = tp / (tp + fn)\n",
        "print(score1)\n",
        "\n"
      ],
      "execution_count": 10,
      "outputs": [
        {
          "output_type": "stream",
          "name": "stdout",
          "text": [
            "67 3 4 114\n",
            "0.9661016949152542\n"
          ]
        },
        {
          "output_type": "stream",
          "name": "stderr",
          "text": [
            "/usr/local/lib/python3.7/dist-packages/sklearn/linear_model/_logistic.py:818: ConvergenceWarning: lbfgs failed to converge (status=1):\n",
            "STOP: TOTAL NO. of ITERATIONS REACHED LIMIT.\n",
            "\n",
            "Increase the number of iterations (max_iter) or scale the data as shown in:\n",
            "    https://scikit-learn.org/stable/modules/preprocessing.html\n",
            "Please also refer to the documentation for alternative solver options:\n",
            "    https://scikit-learn.org/stable/modules/linear_model.html#logistic-regression\n",
            "  extra_warning_msg=_LOGISTIC_SOLVER_CONVERGENCE_MSG,\n"
          ]
        }
      ]
    },
    {
      "cell_type": "code",
      "metadata": {
        "colab": {
          "base_uri": "https://localhost:8080/"
        },
        "id": "G4w9LEr5ynah",
        "outputId": "e7a8ac73-a979-4955-a389-da83eabc0a53"
      },
      "source": [
        "#X_train, X_test, y_train, y_test = train_test_split(X, y, random_state=3, test_size=0.33)\n",
        "neigh = KNeighborsClassifier()\n",
        "neigh_model = neigh.fit(X_train, y_train)\n",
        "neigh_pred_y = neigh_model.predict(X_test)\n",
        "tn, fp, fn, tp = confusion_matrix(y_test, neigh_pred_y,labels=[0, 1]).ravel()\n",
        "print(tn, fp, fn, tp)\n",
        "score2 = tp / (tp + fn)\n",
        "print(score2)\n",
        "\n"
      ],
      "execution_count": 11,
      "outputs": [
        {
          "output_type": "stream",
          "name": "stdout",
          "text": [
            "63 7 3 115\n",
            "0.9745762711864406\n"
          ]
        }
      ]
    },
    {
      "cell_type": "markdown",
      "metadata": {
        "id": "XcY2N2ypYidg"
      },
      "source": [
        "Далее мы проведем оценку каждой из этих моделей в соответствии с методом скользящего контроля с помощью функции `cross_val_score` из модуля `sklearn.model_selection`. В качестве параметра кросс-валидации `cv` в этой функции используйте экземпляр класса `StratifiedKFold` из `sklearn.model_selection` с тремя разбиениями. \n",
        "\n",
        "Функция `cross_val_score` возвращает количество оценок, соответствующие числу разбиений.\n",
        "В качестве итогового результата используете среднее значение полученных оценок с помощью метрики `recall`. Какая модель работает лучше в это случае? Какие выводы можно из этого сделать? Ответом на это задание `answer5` является лучший итоговый результат, округленный до трех знаков после запятой."
      ]
    },
    {
      "cell_type": "markdown",
      "metadata": {
        "id": "cNbEBErxYidj"
      },
      "source": [
        "### *РЕШЕНИЕ*"
      ]
    },
    {
      "cell_type": "code",
      "metadata": {
        "id": "egSNM3CsYidl",
        "colab": {
          "base_uri": "https://localhost:8080/"
        },
        "outputId": "3e884b77-f3aa-459b-94a1-0d3300fa3ba8"
      },
      "source": [
        "from sklearn.model_selection import cross_val_score, StratifiedKFold\n",
        "cross_val_score(neigh_model, X, y, cv = StratifiedKFold(n_splits=3))\n"
      ],
      "execution_count": 21,
      "outputs": [
        {
          "output_type": "execute_result",
          "data": {
            "text/plain": [
              "array([0.9       , 0.94736842, 0.92063492])"
            ]
          },
          "metadata": {},
          "execution_count": 21
        }
      ]
    },
    {
      "cell_type": "markdown",
      "metadata": {
        "id": "oyy9CvEAYido"
      },
      "source": [
        "# Строка с ответами"
      ]
    },
    {
      "cell_type": "code",
      "metadata": {
        "id": "p4BrYGRXYidp"
      },
      "source": [
        "output = \"\"\"TN,FN,TP,FP = {0}\n",
        "Precision,Recall,F1 Score = {1}\n",
        "Best ROC AUC Score {2:.3f}\n",
        "Random Split {3:.3f}\n",
        "Cross Val Score {4:.3f}\"\"\"\n",
        "print(output.format(answer1, answer2, answer3, answer4, answer5))"
      ],
      "execution_count": null,
      "outputs": []
    }
  ]
}