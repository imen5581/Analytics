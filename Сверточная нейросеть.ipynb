{
  "nbformat": 4,
  "nbformat_minor": 0,
  "metadata": {
    "colab": {
      "name": "Untitled10.ipynb",
      "provenance": []
    },
    "kernelspec": {
      "name": "python3",
      "display_name": "Python 3"
    },
    "language_info": {
      "name": "python"
    }
  },
  "cells": [
    {
      "cell_type": "markdown",
      "source": [
        "**3. Сверточная нейронная сеть**"
      ],
      "metadata": {
        "id": "T-mm48QJzHHE"
      }
    },
    {
      "cell_type": "code",
      "execution_count": 52,
      "metadata": {
        "id": "M952NnEHqQCQ",
        "colab": {
          "base_uri": "https://localhost:8080/"
        },
        "outputId": "2b48e54a-b282-40ea-e756-9d3c275594bc"
      },
      "outputs": [
        {
          "output_type": "stream",
          "name": "stdout",
          "text": [
            "Model: \"sequential_23\"\n",
            "_________________________________________________________________\n",
            " Layer (type)                Output Shape              Param #   \n",
            "=================================================================\n",
            " conv2d_62 (Conv2D)          (None, 28, 28, 32)        320       \n",
            "                                                                 \n",
            " max_pooling2d_58 (MaxPoolin  (None, 14, 14, 32)       0         \n",
            " g2D)                                                            \n",
            "                                                                 \n",
            " flatten_18 (Flatten)        (None, 6272)              0         \n",
            "                                                                 \n",
            " dense_36 (Dense)            (None, 128)               802944    \n",
            "                                                                 \n",
            " dense_37 (Dense)            (None, 10)                1290      \n",
            "                                                                 \n",
            "=================================================================\n",
            "Total params: 804,554\n",
            "Trainable params: 804,554\n",
            "Non-trainable params: 0\n",
            "_________________________________________________________________\n"
          ]
        }
      ],
      "source": [
        "import numpy as np\n",
        "import matplotlib.pyplot as plt\n",
        "from tensorflow.keras.datasets import fashion_mnist   \n",
        "from keras.models import Sequential\n",
        "from keras.utils import np_utils\n",
        "from keras.layers.core import Activation\n",
        "from keras.callbacks import TensorBoard\n",
        "from tensorflow.keras.layers import Dense, Flatten, Dropout, Conv2D, MaxPooling2D\n",
        " \n",
        "(x_train, y_train), (x_test, y_test) = fashion_mnist.load_data()\n",
        " \n",
        "# Стандартизируем входные данные\n",
        "x_train = x_train / 255\n",
        "x_test = x_test / 255\n",
        " \n",
        "# Преобразовываем векторы классов в бинарные матрицы классов \n",
        "y_train = np_utils.to_categorical(y_train, 10)\n",
        "y_test = np_utils.to_categorical(y_test, 10)\n",
        "\n",
        "# Добавляем еще одно измерение (одну ось) для цветовой компоненты\n",
        "x_train = np.expand_dims(x_train, axis=3)\n",
        "x_test = np.expand_dims(x_test, axis=3)\n",
        "\n",
        "# Строим модель\n",
        "model = Sequential()\n",
        "model.add(Conv2D(32, (3,3), padding='same', activation='relu', input_shape=(28, 28, 1)))\n",
        "model.add(MaxPooling2D((2, 2)))\n",
        "model.add(Flatten())\n",
        "model.add(Dense(128, activation='relu'))\n",
        "model.add(Dense(10,  activation='softmax'))\n",
        "model.summary()"
      ]
    },
    {
      "cell_type": "code",
      "source": [
        "# Компилируем модель\n",
        "model.compile(optimizer='adam',\n",
        "             loss='categorical_crossentropy',\n",
        "             metrics=['accuracy'])\n",
        "\n",
        "# Подключаем модуль для построения графиков качества модели на валидационной и тренировочной выборке от количества эпох\n",
        "tensorboard = TensorBoard(log_dir='./logs', histogram_freq=0,\n",
        "                          write_graph=True, write_images=False)\n",
        "\n",
        "# Обучаем модель \n",
        "model.fit(x_train, y_train, batch_size=32, epochs=5, validation_split=0.2, callbacks=[tensorboard])"
      ],
      "metadata": {
        "colab": {
          "base_uri": "https://localhost:8080/"
        },
        "id": "08pjcmPrv4vZ",
        "outputId": "4d39e240-dec6-4ba7-cc0d-4867ca17edd2"
      },
      "execution_count": 53,
      "outputs": [
        {
          "output_type": "stream",
          "name": "stdout",
          "text": [
            "Epoch 1/5\n",
            "1500/1500 [==============================] - 38s 25ms/step - loss: 0.3999 - accuracy: 0.8573 - val_loss: 0.2952 - val_accuracy: 0.8928\n",
            "Epoch 2/5\n",
            "1500/1500 [==============================] - 39s 26ms/step - loss: 0.2655 - accuracy: 0.9044 - val_loss: 0.2662 - val_accuracy: 0.9023\n",
            "Epoch 3/5\n",
            "1500/1500 [==============================] - 37s 25ms/step - loss: 0.2208 - accuracy: 0.9179 - val_loss: 0.2632 - val_accuracy: 0.9055\n",
            "Epoch 4/5\n",
            "1500/1500 [==============================] - 35s 23ms/step - loss: 0.1849 - accuracy: 0.9313 - val_loss: 0.2560 - val_accuracy: 0.9075\n",
            "Epoch 5/5\n",
            "1500/1500 [==============================] - 35s 23ms/step - loss: 0.1587 - accuracy: 0.9402 - val_loss: 0.2522 - val_accuracy: 0.9119\n"
          ]
        },
        {
          "output_type": "execute_result",
          "data": {
            "text/plain": [
              "<keras.callbacks.History at 0x7f6ca001fe50>"
            ]
          },
          "metadata": {},
          "execution_count": 53
        }
      ]
    },
    {
      "cell_type": "code",
      "source": [
        "# Проверяем качество на тестовых данных\n",
        "model.evaluate(x_test, y_test)"
      ],
      "metadata": {
        "colab": {
          "base_uri": "https://localhost:8080/"
        },
        "id": "Av0qPpP4v811",
        "outputId": "da4713f7-5511-4ada-f640-9534ba72d51c"
      },
      "execution_count": 54,
      "outputs": [
        {
          "output_type": "stream",
          "name": "stdout",
          "text": [
            "313/313 [==============================] - 2s 7ms/step - loss: 0.2713 - accuracy: 0.9101\n"
          ]
        },
        {
          "output_type": "execute_result",
          "data": {
            "text/plain": [
              "[0.2712896764278412, 0.910099983215332]"
            ]
          },
          "metadata": {},
          "execution_count": 54
        }
      ]
    },
    {
      "cell_type": "code",
      "source": [
        "# Строим графики качества модели на валидационной и тренировочной выборке от количества эпох\n",
        "%load_ext tensorboard\n",
        "%tensorboard --logdir logs"
      ],
      "metadata": {
        "id": "PVH4TGcgDECO"
      },
      "execution_count": null,
      "outputs": []
    },
    {
      "cell_type": "markdown",
      "source": [
        "**Вывод:**\n",
        "\n",
        "Качество классификации по accuracy составило 94.19% на тренировочной выборке и 90.96% на тестовой. Данный результат выше почти на 4% по сравнению с полносвязанной нейронной сетью. К тому же, количество итераций уменьшилось в 10 раз. С 50 до 5."
      ],
      "metadata": {
        "id": "5UOOCk_V5sUd"
      }
    },
    {
      "cell_type": "markdown",
      "source": [
        "**Добавляем +2 сверточных слоя**"
      ],
      "metadata": {
        "id": "HP8hDrgH7eVt"
      }
    },
    {
      "cell_type": "code",
      "source": [
        "from tensorflow.python.keras.layers.core import Activation\n",
        "# Строим модель\n",
        "model = Sequential()\n",
        "model.add(Conv2D(32, (3,3), padding='same', input_shape=(28, 28, 1)))\n",
        "model.add(Activation('relu'))\n",
        "model.add(MaxPooling2D((2, 2)))\n",
        "model.add(Conv2D(64, (3,3), padding='same'))\n",
        "model.add(Activation('relu'))\n",
        "model.add(MaxPooling2D((2, 2)))\n",
        "model.add(Conv2D(128, (3,3), padding='same'))\n",
        "model.add(Activation('relu'))\n",
        "model.add(MaxPooling2D((2, 2)))\n",
        "model.add(Flatten())\n",
        "model.add(Dense(512))\n",
        "model.add(Activation('relu'))\n",
        "model.add(Dense(10))\n",
        "model.add(Activation('softmax'))\n",
        "model.summary()\n"
      ],
      "metadata": {
        "id": "WK5icJMM75in"
      },
      "execution_count": null,
      "outputs": []
    },
    {
      "cell_type": "code",
      "source": [
        "# Компилируем модель\n",
        "model.compile(optimizer='adam',\n",
        "             loss='categorical_crossentropy',\n",
        "             metrics=['accuracy'])\n",
        "\n",
        "# Обучаем модель \n",
        "model.fit(x_train, y_train, batch_size=32, epochs=5, validation_split=0.2,)"
      ],
      "metadata": {
        "colab": {
          "base_uri": "https://localhost:8080/"
        },
        "id": "18lfJRnf8loA",
        "outputId": "0d60f171-e908-45e4-b5ae-5c4439e28bcd"
      },
      "execution_count": 40,
      "outputs": [
        {
          "output_type": "stream",
          "name": "stdout",
          "text": [
            "Epoch 1/5\n",
            "1500/1500 [==============================] - 100s 66ms/step - loss: 0.4506 - accuracy: 0.8336 - val_loss: 0.3349 - val_accuracy: 0.8794\n",
            "Epoch 2/5\n",
            "1500/1500 [==============================] - 97s 65ms/step - loss: 0.2807 - accuracy: 0.8965 - val_loss: 0.3042 - val_accuracy: 0.8868\n",
            "Epoch 3/5\n",
            "1500/1500 [==============================] - 97s 65ms/step - loss: 0.2346 - accuracy: 0.9129 - val_loss: 0.2487 - val_accuracy: 0.9072\n",
            "Epoch 4/5\n",
            "1500/1500 [==============================] - 98s 65ms/step - loss: 0.2046 - accuracy: 0.9247 - val_loss: 0.2347 - val_accuracy: 0.9121\n",
            "Epoch 5/5\n",
            "1500/1500 [==============================] - 97s 65ms/step - loss: 0.1750 - accuracy: 0.9342 - val_loss: 0.2257 - val_accuracy: 0.9159\n"
          ]
        },
        {
          "output_type": "execute_result",
          "data": {
            "text/plain": [
              "<keras.callbacks.History at 0x7f6cae3ae5d0>"
            ]
          },
          "metadata": {},
          "execution_count": 40
        }
      ]
    },
    {
      "cell_type": "code",
      "source": [
        "# Проверяем качество на тестовых данных\n",
        "model.evaluate(x_test, y_test)"
      ],
      "metadata": {
        "colab": {
          "base_uri": "https://localhost:8080/"
        },
        "id": "0k2xYOYV8n2J",
        "outputId": "84897438-a318-4487-e107-d19933128da1"
      },
      "execution_count": 41,
      "outputs": [
        {
          "output_type": "stream",
          "name": "stdout",
          "text": [
            "313/313 [==============================] - 6s 18ms/step - loss: 0.2467 - accuracy: 0.9110\n"
          ]
        },
        {
          "output_type": "execute_result",
          "data": {
            "text/plain": [
              "[0.24665500223636627, 0.9110000133514404]"
            ]
          },
          "metadata": {},
          "execution_count": 41
        }
      ]
    },
    {
      "cell_type": "markdown",
      "source": [
        "**Вывод**\n",
        "\n",
        "Как видим - добавление 2 дополнительных сверточных слоев повысило качество классификкации модели, но не сильно: не более чем на 1%"
      ],
      "metadata": {
        "id": "ja0SAAHKai-D"
      }
    },
    {
      "cell_type": "markdown",
      "source": [
        "**Добавляем Batch Normalization**"
      ],
      "metadata": {
        "id": "4dq6OEtrbK3m"
      }
    },
    {
      "cell_type": "code",
      "source": [
        "from tensorflow.python.keras.layers import BatchNormalization\n",
        "# Строим модель\n",
        "model = Sequential()\n",
        "model.add(Conv2D(32, (3,3), padding='same', input_shape=(28, 28, 1)))\n",
        "BatchNormalization()\n",
        "model.add(Activation('relu'))\n",
        "model.add(MaxPooling2D((2, 2)))\n",
        "model.add(Conv2D(64, (3,3), padding='same'))\n",
        "BatchNormalization()\n",
        "model.add(Activation('relu'))\n",
        "model.add(MaxPooling2D((2, 2)))\n",
        "model.add(Conv2D(128, (3,3), padding='same'))\n",
        "BatchNormalization()\n",
        "model.add(Activation('relu'))\n",
        "model.add(MaxPooling2D((2, 2)))\n",
        "model.add(Flatten())\n",
        "model.add(Dense(512))\n",
        "BatchNormalization()\n",
        "model.add(Activation('relu'))\n",
        "model.add(Dense(10))\n",
        "BatchNormalization()\n",
        "model.add(Activation('softmax'))\n",
        "model.summary()"
      ],
      "metadata": {
        "id": "I5yAMZE9bOfB"
      },
      "execution_count": null,
      "outputs": []
    },
    {
      "cell_type": "code",
      "source": [
        "# Компилируем модель\n",
        "model.compile(optimizer='adam',\n",
        "             loss='categorical_crossentropy',\n",
        "             metrics=['accuracy'])\n",
        "\n",
        "# Обучаем модель \n",
        "model.fit(x_train, y_train, batch_size=32, epochs=5, validation_split=0.2)"
      ],
      "metadata": {
        "colab": {
          "base_uri": "https://localhost:8080/"
        },
        "id": "yFK4WYVvbUPW",
        "outputId": "88b9176f-a749-4051-d76e-9d33aa41cbaa"
      },
      "execution_count": 47,
      "outputs": [
        {
          "output_type": "stream",
          "name": "stdout",
          "text": [
            "Epoch 1/5\n",
            "1500/1500 [==============================] - 98s 65ms/step - loss: 0.4356 - accuracy: 0.8397 - val_loss: 0.3251 - val_accuracy: 0.8759\n",
            "Epoch 2/5\n",
            "1500/1500 [==============================] - 96s 64ms/step - loss: 0.2779 - accuracy: 0.8986 - val_loss: 0.2781 - val_accuracy: 0.8953\n",
            "Epoch 3/5\n",
            "1500/1500 [==============================] - 96s 64ms/step - loss: 0.2317 - accuracy: 0.9130 - val_loss: 0.2404 - val_accuracy: 0.9135\n",
            "Epoch 4/5\n",
            "1500/1500 [==============================] - 96s 64ms/step - loss: 0.1955 - accuracy: 0.9280 - val_loss: 0.2277 - val_accuracy: 0.9149\n",
            "Epoch 5/5\n",
            "1500/1500 [==============================] - 96s 64ms/step - loss: 0.1688 - accuracy: 0.9363 - val_loss: 0.2344 - val_accuracy: 0.9191\n"
          ]
        },
        {
          "output_type": "execute_result",
          "data": {
            "text/plain": [
              "<keras.callbacks.History at 0x7f6ca0c48ad0>"
            ]
          },
          "metadata": {},
          "execution_count": 47
        }
      ]
    },
    {
      "cell_type": "code",
      "source": [
        "# Проверяем качество на тестовых данных\n",
        "model.evaluate(x_test, y_test)"
      ],
      "metadata": {
        "colab": {
          "base_uri": "https://localhost:8080/"
        },
        "id": "BcBKwJPVbYlv",
        "outputId": "4fb78af9-b627-41bd-dbc2-f021da9e31a1"
      },
      "execution_count": 48,
      "outputs": [
        {
          "output_type": "stream",
          "name": "stdout",
          "text": [
            "313/313 [==============================] - 6s 18ms/step - loss: 0.2566 - accuracy: 0.9124\n"
          ]
        },
        {
          "output_type": "execute_result",
          "data": {
            "text/plain": [
              "[0.2565687894821167, 0.9124000072479248]"
            ]
          },
          "metadata": {},
          "execution_count": 48
        }
      ]
    },
    {
      "cell_type": "code",
      "source": [
        ""
      ],
      "metadata": {
        "id": "XTlBoQ5FBd09"
      },
      "execution_count": null,
      "outputs": []
    },
    {
      "cell_type": "markdown",
      "source": [
        "**Вывод**\n",
        "\n",
        "Использование BatchNormalization повысило качество работы сверточной нейросети, но не очень сильно. Это объясняется тем, что с увеличением количества сверточных слоев - модель переусложняется и качество работы растет незначительно.\n",
        "*******************************************************************************\n",
        "\n",
        "Если сравнивать сверточную сеть с полносвязанной, то работа сверточной сети на настоящих данных дает заметно лучший результат. Это объясняется тем, что сверточные сети гораздо лучше работают в области распознавания изображений"
      ],
      "metadata": {
        "id": "3reBig7W3At2"
      }
    },
    {
      "cell_type": "code",
      "source": [
        ""
      ],
      "metadata": {
        "id": "2m2j9TwMBHz2"
      },
      "execution_count": null,
      "outputs": []
    }
  ]
}