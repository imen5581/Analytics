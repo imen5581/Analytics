{
  "nbformat": 4,
  "nbformat_minor": 0,
  "metadata": {
    "kernelspec": {
      "display_name": "Python 3",
      "language": "python",
      "name": "python3"
    },
    "language_info": {
      "codemirror_mode": {
        "name": "ipython",
        "version": 3
      },
      "file_extension": ".py",
      "mimetype": "text/x-python",
      "name": "python",
      "nbconvert_exporter": "python",
      "pygments_lexer": "ipython3",
      "version": "3.7.3"
    },
    "colab": {
      "name": "Выделение целевой переменной.ipynb",
      "provenance": []
    }
  },
  "cells": [
    {
      "cell_type": "markdown",
      "metadata": {
        "id": "vgr4TCqTgv6M"
      },
      "source": [
        "Рассчитать важность признаков"
      ]
    },
    {
      "cell_type": "markdown",
      "metadata": {
        "id": "Ru1PucyIgv6R"
      },
      "source": [
        "### *РЕШЕНИЕ*"
      ]
    },
    {
      "cell_type": "code",
      "metadata": {
        "colab": {
          "base_uri": "https://localhost:8080/",
          "height": 482
        },
        "id": "TnbdH5QUfMMv",
        "outputId": "04db065f-f87c-44fb-ebe8-ca2d893acd60"
      },
      "source": [
        "import pandas as pd\n",
        "import numpy as np\n",
        "import seaborn as sns\n",
        "from sklearn.preprocessing import MinMaxScaler\n",
        "from sklearn.linear_model import LinearRegression\n",
        "import matplotlib.pyplot as plt\n",
        "\n",
        "data = pd.read_csv('data.csv')\n",
        "\n",
        "scaler = MinMaxScaler()\n",
        "linear_regression = LinearRegression()\n",
        "\n",
        "X = data.drop(columns='target')\n",
        "X = scaler.fit_transform(X)\n",
        "y = data.target\n",
        "model = linear_regression.fit(X, y)\n",
        "\n",
        "weight_data = pd.DataFrame(zip(data.columns, model.coef_))\n",
        "weight_data.columns = ['f', 'coeff']\n",
        "weight_data = weight_data[weight_data.coeff.abs() > 0.01]\n",
        "weight_data = weight_data.sort_values('coeff', ascending=False)\n",
        "print(weight_data)\n",
        "\n",
        "sns.barplot(x='coeff', y='f', data=weight_data);\n",
        "plt.title('Коэффициенты/важность признаков');"
      ],
      "execution_count": 3,
      "outputs": [
        {
          "output_type": "stream",
          "name": "stdout",
          "text": [
            "      f       coeff\n",
            "53  f54  489.356736\n",
            "83  f84  370.082114\n",
            "32  f33  367.383082\n",
            "22  f23  285.648451\n",
            "7    f8  239.417430\n",
            "68  f69  179.345713\n",
            "37  f38  112.168497\n",
            "28  f29  107.357792\n",
            "91  f92   77.969137\n",
            "46  f47   12.506650\n"
          ]
        },
        {
          "output_type": "display_data",
          "data": {
            "image/png": "[encoded data removed]",
            "text/plain": [
              "<Figure size 432x288 with 1 Axes>"
            ]
          },
          "metadata": {
            "needs_background": "light"
          }
        }
      ]
    }
  ]
}