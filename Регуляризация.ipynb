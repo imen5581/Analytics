{
  "nbformat": 4,
  "nbformat_minor": 0,
  "metadata": {
    "kernelspec": {
      "display_name": "Python 3",
      "language": "python",
      "name": "python3"
    },
    "language_info": {
      "codemirror_mode": {
        "name": "ipython",
        "version": 3
      },
      "file_extension": ".py",
      "mimetype": "text/x-python",
      "name": "python",
      "nbconvert_exporter": "python",
      "pygments_lexer": "ipython3",
      "version": "3.6.3"
    },
    "colab": {
      "name": "task-3.2.1.ipynb",
      "provenance": []
    }
  },
  "cells": [
    {
      "cell_type": "markdown",
      "metadata": {
        "id": "fH3zeQmpKLlM"
      },
      "source": [
        "# Обучение с учителем\n",
        "## Применение линейной регрессии"
      ]
    },
    {
      "cell_type": "markdown",
      "metadata": {
        "id": "pC3jaJTHKLlS"
      },
      "source": [
        "В этом задании вам предлагается изучить и применить на практике модели линейной регресии,\n",
        "доступные в библиотеке `scikit-learn`."
      ]
    },
    {
      "cell_type": "markdown",
      "metadata": {
        "id": "-XJVyyeOKLlT"
      },
      "source": [
        "Модель линейной регрессии имеет ряд проблем, связанных с переобучением. Другими словами, модель слишком точно приближает зависимость между признаками и целевой переменной на тренировочной выборке, и, как результат, делает достаточно грубые или неточные предсказания на новых данных. Регуляризация является эффективным решением данной проблемы. Введем понятие Гребневой Регрессии (Ridge Regression).\n",
        "\n",
        "Сформулируем задачу минимизации функционала $Q(\\beta)$ для нахождения линейной зависимости между целевой переменной $Y$ и признаками.\n",
        "\n",
        "$$\n",
        "\\begin{equation*}\n",
        "    Q(\\beta) = \\| Y - X \\beta \\|^2 + \\lambda \\| \\beta \\|^2 \\rightarrow \\min\\limits_{\\beta}.\n",
        "\\end{equation*}\n",
        "$$\n",
        "\n",
        "В данном случае, $X$ - матрица признаков, $\\beta$ - вектор параметров, который требуется найти. Таким образом, мы добавляем к функции потерь регуляризатор с параметром $\\lambda$, штрафующий большие значения вектора весов $\\beta$. \n",
        "\n",
        "Настройка коэффициента регуляризации $\\lambda$ - это важная задача в построении модели Гребневой регрессии."
      ]
    },
    {
      "cell_type": "markdown",
      "metadata": {
        "id": "QRmjMcBeKLlW"
      },
      "source": [
        "## Загрузка и разбиение данных"
      ]
    },
    {
      "cell_type": "markdown",
      "metadata": {
        "id": "Msqv7aw6KLlX"
      },
      "source": [
        "Мы будем решать задачу линейной регресии на наборе данных `Boston House Prices`. Он представляет из себя набор различных факторов, которые некоторым образов влияют на среднюю рыночную цену дома в разных районах Бостона. Например, уровень преступности или среднее количество комнат. Наша задача - предсказать цену нового объекта, опираясь на значения этих признаков.\n",
        "\n",
        "Начнем с загрузки этого набора данных и его разбиения. `Boston House Prices` является одним из втроенных наборов данных, доступных в `scikit-learn`. Для его загрузки достаточно вызвать функцию `load_boston` из `sklearn.datasets`. Далее, предлагается случайно разбить выборку на тренировочную и тестовую выборку, используя функцию `train_test_split` из `sklearn.model_selection`, вызвав ее с параметром `random_state=54` и `test_size=0.33`."
      ]
    },
    {
      "cell_type": "code",
      "metadata": {
        "collapsed": true,
        "id": "KODTf1H5KLlZ"
      },
      "source": [
        "from sklearn.model_selection import train_test_split\n",
        "from sklearn.datasets import load_boston\n",
        "\n",
        "boston = load_boston()\n",
        "X_train, X_test, y_train, y_test = train_test_split(boston.data, boston.target, random_state=54, test_size=0.33)"
      ],
      "execution_count": 60,
      "outputs": []
    },
    {
      "cell_type": "markdown",
      "metadata": {
        "id": "CWD6iPpOKLlc"
      },
      "source": [
        "## Настройка параметра регуляризации в Гребневой регрессии"
      ]
    },
    {
      "cell_type": "markdown",
      "metadata": {
        "id": "dxDjv9P2KLld"
      },
      "source": [
        "Модель Гребневой регрессии представлена классом `Ridge` из `sklearn.linear_model`. Конструктор этого класса содержит аргумент `alpha`, обратное значение которого соответствует параметру регуляризации $\\lambda$. При использовании данной модели установите значение аргумента `random_state=42`. Найдите оптимальное значение коэффициента `alpha` в диапазоне `{10, 20, 30, ..., 90}` начиная со значения 10 до 90 с шагом 10, соответствующее минимальному значению среднеквадратической ошибки на тестовой выборке. Так же укажите это минимальное значение, округленное до трех знаков после запятой. Эти два значения будут являться первым `answer1` и вторым `answer2` ответом в этом практическом задание. Постройте график зависимости среднеквадратической ошибки от значения параметра `alpha`."
      ]
    },
    {
      "cell_type": "markdown",
      "metadata": {
        "id": "2b88t5k2KLlf"
      },
      "source": [
        "### *РЕШЕНИЕ*"
      ]
    },
    {
      "cell_type": "code",
      "metadata": {
        "collapsed": true,
        "colab": {
          "base_uri": "https://localhost:8080/"
        },
        "id": "zQp70FOdKLlg",
        "outputId": "046c8383-b41d-4e19-ba56-e054f64ad03a"
      },
      "source": [
        "import numpy as np\n",
        "from sklearn import metrics \n",
        "from sklearn.linear_model import Ridge\n",
        "from sklearn.metrics import mean_squared_error\n",
        "\n",
        "for alpha in range(10,100,10):\n",
        "    ridge_model = Ridge(alpha)\n",
        "    ridge=ridge_model.fit(X_train , y_train)\n",
        "    ridge_predict = ridge.predict(X_test)\n",
        "\n",
        "    print(f'{alpha}: Mean Squared Error:', metrics.mean_squared_error(y_test, ridge_predict))"
      ],
      "execution_count": 61,
      "outputs": [
        {
          "output_type": "stream",
          "name": "stdout",
          "text": [
            "10: Mean Squared Error: 23.577406074332615\n",
            "20: Mean Squared Error: 23.346202568579102\n",
            "30: Mean Squared Error: 23.21072612489941\n",
            "40: Mean Squared Error: 23.14690389145797\n",
            "50: Mean Squared Error: 23.13184602763413\n",
            "60: Mean Squared Error: 23.149749882502068\n",
            "70: Mean Squared Error: 23.189977020145914\n",
            "80: Mean Squared Error: 23.245318043037358\n",
            "90: Mean Squared Error: 23.31082865744054\n"
          ]
        }
      ]
    },
    {
      "cell_type": "code",
      "metadata": {
        "colab": {
          "base_uri": "https://localhost:8080/"
        },
        "id": "9zQPPEV-KLlh",
        "outputId": "efb72453-6137-4322-d1c1-08fe5eabe4fb"
      },
      "source": [
        "lasso = Lasso()\n",
        "lasso_model = lasso.fit(X_train,y_train)\n",
        "y_pred = lasso_model.predict(X_test)\n",
        "print('Mean Squared Error:', metrics.mean_squared_error(y_test, y_pred))\n"
      ],
      "execution_count": 64,
      "outputs": [
        {
          "output_type": "stream",
          "name": "stdout",
          "text": [
            "Mean Squared Error: 26.917061689676302\n"
          ]
        }
      ]
    },
    {
      "cell_type": "markdown",
      "metadata": {
        "id": "OpK1ls8fKLli"
      },
      "source": [
        "В результате, мы нашли оптимальное значение коэффициента `alpha` из предложенных, которое соответствует наиболее точной модели на новых данных. Таким образом, Гребневая регрессия собирает максимум информации из предложенных тренировочных данных."
      ]
    },
    {
      "cell_type": "markdown",
      "metadata": {
        "id": "E6ECUxBKKLlk"
      },
      "source": [
        "## Метод регрессии LASSO"
      ]
    },
    {
      "cell_type": "markdown",
      "metadata": {
        "id": "ZKoHFjZsKLlk"
      },
      "source": [
        "Еще одним методом регуляризации, похожем на Гребневую регрессию, является LASSO (least absolute shrinkage and selection operator). В данном случае, задача минимизации функции потерь формулируется следующим образом.\n",
        "\n",
        "$$\n",
        "\\begin{equation*}\n",
        "    \\left\\lbrace\n",
        "        \\begin{array}{c}\n",
        "            Q(\\beta) = \\| Y - X \\beta \\|^2, \\\\\n",
        "            \\sum\\limits_{i=0}^N |\\beta_i| < \\varkappa.\n",
        "        \\end{array}\n",
        "    \\right.\n",
        "\\end{equation*}\n",
        "$$\n",
        "\n",
        "При уменьшении значения $\\varkappa$ все больше коэффициентов $\\beta_i$ обнуляются. Таким образом, LASSO является своеобразным методом отбора признаков и понижения размерности, подробнее о которых вы узнаете на 4-й неделе нашего курса. Этот метод регуляризации выбирает самые информативные признаки, отбрасывая остальные."
      ]
    },
    {
      "cell_type": "markdown",
      "metadata": {
        "id": "2hJRDYd5KLlm"
      },
      "source": [
        "Загрузите набор данных `Diabetes`, используя функцию `load_diabetes` из `sklearn.datasets`. `Diabetes` содержит в себе информацию о различных признаках, таких как возраст, пол, среднее кровяное давление человека и прочие. В качестве целевой переменной выступает количественный показатель прогрессирования заболевания диабет через год после определенного периода (baseline)."
      ]
    },
    {
      "cell_type": "code",
      "metadata": {
        "collapsed": true,
        "id": "XO10ltsSKLlo"
      },
      "source": [
        "from sklearn.datasets import load_diabetes\n",
        "\n",
        "diabetes = load_diabetes()\n",
        "diabetes"
      ],
      "execution_count": null,
      "outputs": []
    },
    {
      "cell_type": "markdown",
      "metadata": {
        "id": "ta4BWOZfKLlq"
      },
      "source": [
        "Метод LASSO представлен классом `Lasso` из `sklearn.linear_model`. Обучите эту модель на всем наборе данных `Diabetes`. Выберете в качестве параметра конструктора класса `random_state=42`. Какое количество признаков было отсеяно данной моделью? Для этого проанализируйте вектор весов `coef_`, являющийся атрибутом данной модели. В качестве ответа `answer3` на это задание приведите отношение числа выбранных моделью признаков к их общему числу. Ответ округлите до одного знака после запятой."
      ]
    },
    {
      "cell_type": "markdown",
      "metadata": {
        "id": "hzhFAgwkKLlr"
      },
      "source": [
        "### *РЕШЕНИЕ*"
      ]
    },
    {
      "cell_type": "code",
      "metadata": {
        "collapsed": true,
        "colab": {
          "base_uri": "https://localhost:8080/"
        },
        "id": "ebsGKgbxKLls",
        "outputId": "280891a8-f848-4658-8507-8350c11314d3"
      },
      "source": [
        "from sklearn.linear_model import Lasso\n",
        "from sklearn.model_selection import train_test_split \n",
        "\n",
        "X_train, X_test, y_train, y_test = train_test_split(diabetes.data, diabetes.target, random_state=42, test_size=0.33)\n",
        "\n",
        "lasso = Lasso()\n",
        "lasso_model = lasso.fit(X_train,y_train)\n",
        "lasso_model.coef_\n",
        "\n"
      ],
      "execution_count": 40,
      "outputs": [
        {
          "output_type": "execute_result",
          "data": {
            "text/plain": [
              "array([  0.        ,  -0.        , 425.89461957,  69.18843585,\n",
              "         0.        ,   0.        ,  -0.        ,   0.        ,\n",
              "       177.77583411,   0.        ])"
            ]
          },
          "metadata": {},
          "execution_count": 40
        }
      ]
    },
    {
      "cell_type": "markdown",
      "metadata": {
        "id": "ELiIsX0BKLlu"
      },
      "source": [
        "Далее обучите модель `Lasso` с параметром конструктора `random_state=42` на тренировочной выборке датасета `Boston House Prices` и посчитайте значение среднеквадратической ошибки на тестовой выборке. Приведите это значение в качестве ответа `answer4`, округленного до трех знаков после запятой. Сравните это значение с результатом, полученным Гребневой регрессией."
      ]
    },
    {
      "cell_type": "markdown",
      "metadata": {
        "id": "cds0_wysKLlv"
      },
      "source": [
        "### *РЕШЕНИЕ*"
      ]
    },
    {
      "cell_type": "code",
      "metadata": {
        "colab": {
          "base_uri": "https://localhost:8080/"
        },
        "id": "20hpOVMhKLlw",
        "outputId": "3b0156c4-b574-4318-dc9a-b73394146fe0"
      },
      "source": [
        "from sklearn import metrics\n",
        "import numpy as np\n",
        "X_train, X_test, y_train, y_test = train_test_split(boston.data, boston.target, random_state=42, test_size=0.33)\n",
        "lasso = Lasso(alpha=1.0)\n",
        "lasso_model = lasso.fit(X_train,y_train)\n",
        "y_pred = lasso_model.predict(X_test)\n",
        "print('Mean Squared Error:', metrics.mean_squared_error(y_test, y_pred))\n"
      ],
      "execution_count": 48,
      "outputs": [
        {
          "output_type": "stream",
          "name": "stdout",
          "text": [
            "Mean Squared Error: 25.372280929902782\n"
          ]
        }
      ]
    },
    {
      "cell_type": "markdown",
      "metadata": {
        "id": "gYF-bF-OKLlw"
      },
      "source": [
        "# Строка с ответами"
      ]
    },
    {
      "cell_type": "code",
      "metadata": {
        "id": "st1sNtCvKLlx"
      },
      "source": [
        ""
      ],
      "execution_count": null,
      "outputs": []
    }
  ]
}